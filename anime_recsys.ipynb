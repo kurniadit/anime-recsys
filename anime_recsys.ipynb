{
 "cells": [
  {
   "cell_type": "markdown",
   "id": "aabd2500",
   "metadata": {},
   "source": [
    "# 1. Import Data"
   ]
  },
  {
   "cell_type": "markdown",
   "id": "db89b059",
   "metadata": {},
   "source": [
    "## Load Data"
   ]
  },
  {
   "cell_type": "code",
   "execution_count": 1,
   "id": "2b5551d8",
   "metadata": {},
   "outputs": [],
   "source": [
    "# import numpy and pandas library\n",
    "import numpy as np\n",
    "import pandas as pd"
   ]
  },
  {
   "cell_type": "markdown",
   "id": "b03e5b32",
   "metadata": {},
   "source": [
    "First, load rating data"
   ]
  },
  {
   "cell_type": "code",
   "execution_count": 2,
   "id": "523d511a",
   "metadata": {},
   "outputs": [],
   "source": [
    "path_rating = './anime_dataset/rating.csv'"
   ]
  },
  {
   "cell_type": "code",
   "execution_count": 3,
   "id": "2d220089",
   "metadata": {},
   "outputs": [],
   "source": [
    "df_rating = pd.read_csv(path_rating)"
   ]
  },
  {
   "cell_type": "code",
   "execution_count": 4,
   "id": "3d32eddf",
   "metadata": {
    "scrolled": true
   },
   "outputs": [
    {
     "data": {
      "text/html": [
       "<div>\n",
       "<style scoped>\n",
       "    .dataframe tbody tr th:only-of-type {\n",
       "        vertical-align: middle;\n",
       "    }\n",
       "\n",
       "    .dataframe tbody tr th {\n",
       "        vertical-align: top;\n",
       "    }\n",
       "\n",
       "    .dataframe thead th {\n",
       "        text-align: right;\n",
       "    }\n",
       "</style>\n",
       "<table border=\"1\" class=\"dataframe\">\n",
       "  <thead>\n",
       "    <tr style=\"text-align: right;\">\n",
       "      <th></th>\n",
       "      <th>user_id</th>\n",
       "      <th>anime_id</th>\n",
       "      <th>rating</th>\n",
       "    </tr>\n",
       "  </thead>\n",
       "  <tbody>\n",
       "    <tr>\n",
       "      <th>0</th>\n",
       "      <td>1</td>\n",
       "      <td>20</td>\n",
       "      <td>-1</td>\n",
       "    </tr>\n",
       "    <tr>\n",
       "      <th>1</th>\n",
       "      <td>1</td>\n",
       "      <td>24</td>\n",
       "      <td>-1</td>\n",
       "    </tr>\n",
       "    <tr>\n",
       "      <th>2</th>\n",
       "      <td>1</td>\n",
       "      <td>79</td>\n",
       "      <td>-1</td>\n",
       "    </tr>\n",
       "    <tr>\n",
       "      <th>3</th>\n",
       "      <td>1</td>\n",
       "      <td>226</td>\n",
       "      <td>-1</td>\n",
       "    </tr>\n",
       "    <tr>\n",
       "      <th>4</th>\n",
       "      <td>1</td>\n",
       "      <td>241</td>\n",
       "      <td>-1</td>\n",
       "    </tr>\n",
       "    <tr>\n",
       "      <th>...</th>\n",
       "      <td>...</td>\n",
       "      <td>...</td>\n",
       "      <td>...</td>\n",
       "    </tr>\n",
       "    <tr>\n",
       "      <th>7813732</th>\n",
       "      <td>73515</td>\n",
       "      <td>16512</td>\n",
       "      <td>7</td>\n",
       "    </tr>\n",
       "    <tr>\n",
       "      <th>7813733</th>\n",
       "      <td>73515</td>\n",
       "      <td>17187</td>\n",
       "      <td>9</td>\n",
       "    </tr>\n",
       "    <tr>\n",
       "      <th>7813734</th>\n",
       "      <td>73515</td>\n",
       "      <td>22145</td>\n",
       "      <td>10</td>\n",
       "    </tr>\n",
       "    <tr>\n",
       "      <th>7813735</th>\n",
       "      <td>73516</td>\n",
       "      <td>790</td>\n",
       "      <td>9</td>\n",
       "    </tr>\n",
       "    <tr>\n",
       "      <th>7813736</th>\n",
       "      <td>73516</td>\n",
       "      <td>8074</td>\n",
       "      <td>9</td>\n",
       "    </tr>\n",
       "  </tbody>\n",
       "</table>\n",
       "<p>7813737 rows × 3 columns</p>\n",
       "</div>"
      ],
      "text/plain": [
       "         user_id  anime_id  rating\n",
       "0              1        20      -1\n",
       "1              1        24      -1\n",
       "2              1        79      -1\n",
       "3              1       226      -1\n",
       "4              1       241      -1\n",
       "...          ...       ...     ...\n",
       "7813732    73515     16512       7\n",
       "7813733    73515     17187       9\n",
       "7813734    73515     22145      10\n",
       "7813735    73516       790       9\n",
       "7813736    73516      8074       9\n",
       "\n",
       "[7813737 rows x 3 columns]"
      ]
     },
     "execution_count": 4,
     "metadata": {},
     "output_type": "execute_result"
    }
   ],
   "source": [
    "df_rating"
   ]
  },
  {
   "cell_type": "code",
   "execution_count": null,
   "id": "48fd717c",
   "metadata": {},
   "outputs": [],
   "source": [
    "# sampling data"
   ]
  },
  {
   "cell_type": "markdown",
   "id": "37f8d186",
   "metadata": {},
   "source": [
    "## Check Data Condition"
   ]
  },
  {
   "cell_type": "code",
   "execution_count": 5,
   "id": "7967cc72",
   "metadata": {},
   "outputs": [
    {
     "name": "stdout",
     "output_type": "stream",
     "text": [
      "<class 'pandas.core.frame.DataFrame'>\n",
      "RangeIndex: 7813737 entries, 0 to 7813736\n",
      "Data columns (total 3 columns):\n",
      " #   Column    Dtype\n",
      "---  ------    -----\n",
      " 0   user_id   int64\n",
      " 1   anime_id  int64\n",
      " 2   rating    int64\n",
      "dtypes: int64(3)\n",
      "memory usage: 178.8 MB\n"
     ]
    }
   ],
   "source": [
    "df_rating.info()"
   ]
  },
  {
   "cell_type": "code",
   "execution_count": 6,
   "id": "c9cbe7fb",
   "metadata": {},
   "outputs": [
    {
     "data": {
      "text/plain": [
       "(7813737, 3)"
      ]
     },
     "execution_count": 6,
     "metadata": {},
     "output_type": "execute_result"
    }
   ],
   "source": [
    "df_rating.shape"
   ]
  },
  {
   "cell_type": "code",
   "execution_count": 9,
   "id": "db1edb54",
   "metadata": {},
   "outputs": [
    {
     "data": {
      "text/plain": [
       "73515"
      ]
     },
     "execution_count": 9,
     "metadata": {},
     "output_type": "execute_result"
    }
   ],
   "source": [
    "df_rating['user_id'].nunique()"
   ]
  },
  {
   "cell_type": "code",
   "execution_count": 10,
   "id": "126b1833",
   "metadata": {},
   "outputs": [
    {
     "data": {
      "text/plain": [
       "11200"
      ]
     },
     "execution_count": 10,
     "metadata": {},
     "output_type": "execute_result"
    }
   ],
   "source": [
    "df_rating['anime_id'].nunique()"
   ]
  },
  {
   "cell_type": "markdown",
   "id": "63ae3741",
   "metadata": {},
   "source": [
    "Rating columns have value -1, it means user watched it but didn't assign a rating"
   ]
  },
  {
   "cell_type": "code",
   "execution_count": 11,
   "id": "df02d102",
   "metadata": {
    "scrolled": true
   },
   "outputs": [
    {
     "data": {
      "text/plain": [
       " 8     1646019\n",
       "-1     1476496\n",
       " 7     1375287\n",
       " 9     1254096\n",
       " 10     955715\n",
       " 6      637775\n",
       " 5      282806\n",
       " 4      104291\n",
       " 3       41453\n",
       " 2       23150\n",
       " 1       16649\n",
       "Name: rating, dtype: int64"
      ]
     },
     "execution_count": 11,
     "metadata": {},
     "output_type": "execute_result"
    }
   ],
   "source": [
    "df_rating['rating'].value_counts()"
   ]
  },
  {
   "cell_type": "markdown",
   "id": "6fcdcfa2",
   "metadata": {},
   "source": [
    "# 2. Data Cleansing"
   ]
  },
  {
   "cell_type": "markdown",
   "id": "ebf1a818",
   "metadata": {},
   "source": [
    "## Handling duplicates data\n"
   ]
  },
  {
   "cell_type": "code",
   "execution_count": 12,
   "id": "25c6b30d",
   "metadata": {},
   "outputs": [
    {
     "data": {
      "text/plain": [
       "7"
      ]
     },
     "execution_count": 12,
     "metadata": {},
     "output_type": "execute_result"
    }
   ],
   "source": [
    "# Check duplicate data\n",
    "df_rating.duplicated(subset=['user_id', 'anime_id']).sum()"
   ]
  },
  {
   "cell_type": "code",
   "execution_count": 13,
   "id": "82cdd6ff",
   "metadata": {},
   "outputs": [],
   "source": [
    "dropped_data = df_rating.drop_duplicates(subset=['user_id', 'anime_id'])"
   ]
  },
  {
   "cell_type": "code",
   "execution_count": 14,
   "id": "207b0ee5",
   "metadata": {},
   "outputs": [
    {
     "data": {
      "text/plain": [
       "0"
      ]
     },
     "execution_count": 14,
     "metadata": {},
     "output_type": "execute_result"
    }
   ],
   "source": [
    "# Check duplicate data after dropped\n",
    "dropped_data.duplicated(subset=['user_id', 'anime_id']).sum()"
   ]
  },
  {
   "cell_type": "code",
   "execution_count": 15,
   "id": "5e50abf1",
   "metadata": {},
   "outputs": [
    {
     "data": {
      "text/plain": [
       "(7813730, 3)"
      ]
     },
     "execution_count": 15,
     "metadata": {},
     "output_type": "execute_result"
    }
   ],
   "source": [
    "# check data shape after dropping duplicate value\n",
    "dropped_data.shape"
   ]
  },
  {
   "cell_type": "markdown",
   "id": "216c14fb",
   "metadata": {},
   "source": [
    "## Treatment -1 value"
   ]
  },
  {
   "cell_type": "code",
   "execution_count": 16,
   "id": "a89d4ff5",
   "metadata": {},
   "outputs": [
    {
     "data": {
      "text/html": [
       "<div>\n",
       "<style scoped>\n",
       "    .dataframe tbody tr th:only-of-type {\n",
       "        vertical-align: middle;\n",
       "    }\n",
       "\n",
       "    .dataframe tbody tr th {\n",
       "        vertical-align: top;\n",
       "    }\n",
       "\n",
       "    .dataframe thead th {\n",
       "        text-align: right;\n",
       "    }\n",
       "</style>\n",
       "<table border=\"1\" class=\"dataframe\">\n",
       "  <thead>\n",
       "    <tr style=\"text-align: right;\">\n",
       "      <th></th>\n",
       "      <th>user_id</th>\n",
       "      <th>anime_id</th>\n",
       "      <th>rating</th>\n",
       "    </tr>\n",
       "  </thead>\n",
       "  <tbody>\n",
       "    <tr>\n",
       "      <th>47</th>\n",
       "      <td>1</td>\n",
       "      <td>8074</td>\n",
       "      <td>10.0</td>\n",
       "    </tr>\n",
       "    <tr>\n",
       "      <th>81</th>\n",
       "      <td>1</td>\n",
       "      <td>11617</td>\n",
       "      <td>10.0</td>\n",
       "    </tr>\n",
       "    <tr>\n",
       "      <th>83</th>\n",
       "      <td>1</td>\n",
       "      <td>11757</td>\n",
       "      <td>10.0</td>\n",
       "    </tr>\n",
       "    <tr>\n",
       "      <th>101</th>\n",
       "      <td>1</td>\n",
       "      <td>15451</td>\n",
       "      <td>10.0</td>\n",
       "    </tr>\n",
       "    <tr>\n",
       "      <th>153</th>\n",
       "      <td>2</td>\n",
       "      <td>11771</td>\n",
       "      <td>10.0</td>\n",
       "    </tr>\n",
       "    <tr>\n",
       "      <th>...</th>\n",
       "      <td>...</td>\n",
       "      <td>...</td>\n",
       "      <td>...</td>\n",
       "    </tr>\n",
       "    <tr>\n",
       "      <th>7813732</th>\n",
       "      <td>73515</td>\n",
       "      <td>16512</td>\n",
       "      <td>7.0</td>\n",
       "    </tr>\n",
       "    <tr>\n",
       "      <th>7813733</th>\n",
       "      <td>73515</td>\n",
       "      <td>17187</td>\n",
       "      <td>9.0</td>\n",
       "    </tr>\n",
       "    <tr>\n",
       "      <th>7813734</th>\n",
       "      <td>73515</td>\n",
       "      <td>22145</td>\n",
       "      <td>10.0</td>\n",
       "    </tr>\n",
       "    <tr>\n",
       "      <th>7813735</th>\n",
       "      <td>73516</td>\n",
       "      <td>790</td>\n",
       "      <td>9.0</td>\n",
       "    </tr>\n",
       "    <tr>\n",
       "      <th>7813736</th>\n",
       "      <td>73516</td>\n",
       "      <td>8074</td>\n",
       "      <td>9.0</td>\n",
       "    </tr>\n",
       "  </tbody>\n",
       "</table>\n",
       "<p>6337234 rows × 3 columns</p>\n",
       "</div>"
      ],
      "text/plain": [
       "         user_id  anime_id  rating\n",
       "47             1      8074    10.0\n",
       "81             1     11617    10.0\n",
       "83             1     11757    10.0\n",
       "101            1     15451    10.0\n",
       "153            2     11771    10.0\n",
       "...          ...       ...     ...\n",
       "7813732    73515     16512     7.0\n",
       "7813733    73515     17187     9.0\n",
       "7813734    73515     22145    10.0\n",
       "7813735    73516       790     9.0\n",
       "7813736    73516      8074     9.0\n",
       "\n",
       "[6337234 rows x 3 columns]"
      ]
     },
     "execution_count": 16,
     "metadata": {},
     "output_type": "execute_result"
    }
   ],
   "source": [
    "# replace -1 with NaN and drop NaN values\n",
    "df_clean = dropped_data.replace({-1:np.nan}).dropna()\n",
    "df_clean"
   ]
  },
  {
   "cell_type": "markdown",
   "id": "bdc60a4f",
   "metadata": {},
   "source": [
    "# 3. Modeling\n",
    "Modeling using `suprise` library"
   ]
  },
  {
   "cell_type": "markdown",
   "id": "5329e07e",
   "metadata": {},
   "source": [
    "## Load Data\n",
    "This part has purpose to adjust input data in surprise library"
   ]
  },
  {
   "cell_type": "code",
   "execution_count": 17,
   "id": "84bcc0fc",
   "metadata": {},
   "outputs": [],
   "source": [
    "# import some modul from surprise library\n",
    "from surprise import Dataset, Reader"
   ]
  },
  {
   "cell_type": "code",
   "execution_count": 18,
   "id": "0334be02",
   "metadata": {},
   "outputs": [
    {
     "data": {
      "text/plain": [
       "<surprise.reader.Reader at 0x7f8548e638e0>"
      ]
     },
     "execution_count": 18,
     "metadata": {},
     "output_type": "execute_result"
    }
   ],
   "source": [
    "# input rating scale from anime data, the rating scale between 1-10\n",
    "reader = Reader(rating_scale = (1, 10))\n",
    "reader"
   ]
  },
  {
   "cell_type": "code",
   "execution_count": 19,
   "id": "16bfa927",
   "metadata": {},
   "outputs": [
    {
     "data": {
      "text/plain": [
       "<surprise.dataset.DatasetAutoFolds at 0x7f854a1df760>"
      ]
     },
     "execution_count": 19,
     "metadata": {},
     "output_type": "execute_result"
    }
   ],
   "source": [
    "# create utility data from clean dataframe\n",
    "utility_data = Dataset.load_from_df(\n",
    "                    df = df_clean[['user_id', 'anime_id', 'rating']].copy(),\n",
    "                    reader = reader\n",
    "                )\n",
    "\n",
    "utility_data"
   ]
  },
  {
   "cell_type": "code",
   "execution_count": 20,
   "id": "6d3717d7",
   "metadata": {},
   "outputs": [
    {
     "data": {
      "text/html": [
       "<div>\n",
       "<style scoped>\n",
       "    .dataframe tbody tr th:only-of-type {\n",
       "        vertical-align: middle;\n",
       "    }\n",
       "\n",
       "    .dataframe tbody tr th {\n",
       "        vertical-align: top;\n",
       "    }\n",
       "\n",
       "    .dataframe thead th {\n",
       "        text-align: right;\n",
       "    }\n",
       "</style>\n",
       "<table border=\"1\" class=\"dataframe\">\n",
       "  <thead>\n",
       "    <tr style=\"text-align: right;\">\n",
       "      <th></th>\n",
       "      <th>user_id</th>\n",
       "      <th>anime_id</th>\n",
       "      <th>rating</th>\n",
       "    </tr>\n",
       "  </thead>\n",
       "  <tbody>\n",
       "    <tr>\n",
       "      <th>47</th>\n",
       "      <td>1</td>\n",
       "      <td>8074</td>\n",
       "      <td>10.0</td>\n",
       "    </tr>\n",
       "    <tr>\n",
       "      <th>81</th>\n",
       "      <td>1</td>\n",
       "      <td>11617</td>\n",
       "      <td>10.0</td>\n",
       "    </tr>\n",
       "    <tr>\n",
       "      <th>83</th>\n",
       "      <td>1</td>\n",
       "      <td>11757</td>\n",
       "      <td>10.0</td>\n",
       "    </tr>\n",
       "    <tr>\n",
       "      <th>101</th>\n",
       "      <td>1</td>\n",
       "      <td>15451</td>\n",
       "      <td>10.0</td>\n",
       "    </tr>\n",
       "    <tr>\n",
       "      <th>153</th>\n",
       "      <td>2</td>\n",
       "      <td>11771</td>\n",
       "      <td>10.0</td>\n",
       "    </tr>\n",
       "  </tbody>\n",
       "</table>\n",
       "</div>"
      ],
      "text/plain": [
       "     user_id  anime_id  rating\n",
       "47         1      8074    10.0\n",
       "81         1     11617    10.0\n",
       "83         1     11757    10.0\n",
       "101        1     15451    10.0\n",
       "153        2     11771    10.0"
      ]
     },
     "execution_count": 20,
     "metadata": {},
     "output_type": "execute_result"
    }
   ],
   "source": [
    "utility_data.df.head()"
   ]
  },
  {
   "cell_type": "code",
   "execution_count": 21,
   "id": "f732275f",
   "metadata": {},
   "outputs": [
    {
     "data": {
      "text/html": [
       "<div>\n",
       "<style scoped>\n",
       "    .dataframe tbody tr th:only-of-type {\n",
       "        vertical-align: middle;\n",
       "    }\n",
       "\n",
       "    .dataframe tbody tr th {\n",
       "        vertical-align: top;\n",
       "    }\n",
       "\n",
       "    .dataframe thead th {\n",
       "        text-align: right;\n",
       "    }\n",
       "</style>\n",
       "<table border=\"1\" class=\"dataframe\">\n",
       "  <thead>\n",
       "    <tr style=\"text-align: right;\">\n",
       "      <th></th>\n",
       "      <th>user_id</th>\n",
       "      <th>anime_id</th>\n",
       "      <th>rating</th>\n",
       "    </tr>\n",
       "  </thead>\n",
       "  <tbody>\n",
       "    <tr>\n",
       "      <th>47</th>\n",
       "      <td>1</td>\n",
       "      <td>8074</td>\n",
       "      <td>10.0</td>\n",
       "    </tr>\n",
       "    <tr>\n",
       "      <th>81</th>\n",
       "      <td>1</td>\n",
       "      <td>11617</td>\n",
       "      <td>10.0</td>\n",
       "    </tr>\n",
       "    <tr>\n",
       "      <th>83</th>\n",
       "      <td>1</td>\n",
       "      <td>11757</td>\n",
       "      <td>10.0</td>\n",
       "    </tr>\n",
       "    <tr>\n",
       "      <th>101</th>\n",
       "      <td>1</td>\n",
       "      <td>15451</td>\n",
       "      <td>10.0</td>\n",
       "    </tr>\n",
       "    <tr>\n",
       "      <th>153</th>\n",
       "      <td>2</td>\n",
       "      <td>11771</td>\n",
       "      <td>10.0</td>\n",
       "    </tr>\n",
       "  </tbody>\n",
       "</table>\n",
       "</div>"
      ],
      "text/plain": [
       "     user_id  anime_id  rating\n",
       "47         1      8074    10.0\n",
       "81         1     11617    10.0\n",
       "83         1     11757    10.0\n",
       "101        1     15451    10.0\n",
       "153        2     11771    10.0"
      ]
     },
     "execution_count": 21,
     "metadata": {},
     "output_type": "execute_result"
    }
   ],
   "source": [
    "df_clean.head()"
   ]
  },
  {
   "cell_type": "markdown",
   "id": "164e7e1b",
   "metadata": {},
   "source": [
    "## Data Splitting\n",
    "Split data to train set and test set for modeling"
   ]
  },
  {
   "cell_type": "code",
   "execution_count": 22,
   "id": "95ece26c",
   "metadata": {},
   "outputs": [],
   "source": [
    "# Load library for copy object\n",
    "import copy"
   ]
  },
  {
   "cell_type": "code",
   "execution_count": 23,
   "id": "80c30e71",
   "metadata": {},
   "outputs": [],
   "source": [
    "# Create data splitting function\n",
    "def train_test_split(utility_data, test_size, random_state):\n",
    "    # Deep copy the utility_data\n",
    "    full_data = copy.deepcopy(utility_data)\n",
    "\n",
    "    # Generate random seed\n",
    "    np.random.seed(random_state)\n",
    "\n",
    "    # Shuffle the raw_ratings \n",
    "    raw_ratings = full_data.raw_ratings\n",
    "    np.random.shuffle(raw_ratings)\n",
    "\n",
    "    # Define the threshold\n",
    "    threshold = int((1-test_size) * len(raw_ratings))\n",
    "\n",
    "    # Split the data\n",
    "    train_raw_ratings = raw_ratings[:threshold]\n",
    "    test_raw_ratings = raw_ratings[threshold:]\n",
    "\n",
    "    # Get the data\n",
    "    full_data.raw_ratings = train_raw_ratings\n",
    "    train_data = full_data.build_full_trainset()\n",
    "    test_data = full_data.construct_testset(test_raw_ratings)\n",
    "\n",
    "    return full_data, train_data, test_data\n"
   ]
  },
  {
   "cell_type": "code",
   "execution_count": 24,
   "id": "75b0d8ba",
   "metadata": {},
   "outputs": [],
   "source": [
    "# Split the data\n",
    "full_data, train_data, test_data = train_test_split(utility_data,\n",
    "                                                    test_size = 0.2,\n",
    "                                                    random_state = 42)"
   ]
  },
  {
   "cell_type": "code",
   "execution_count": 25,
   "id": "0ba32564",
   "metadata": {},
   "outputs": [
    {
     "data": {
      "text/plain": [
       "(5069787, 1267447)"
      ]
     },
     "execution_count": 25,
     "metadata": {},
     "output_type": "execute_result"
    }
   ],
   "source": [
    "# Check splitting result\n",
    "train_data.n_ratings, len(test_data)"
   ]
  },
  {
   "cell_type": "markdown",
   "id": "e3e0bad7",
   "metadata": {},
   "source": [
    "## Build Model"
   ]
  },
  {
   "cell_type": "code",
   "execution_count": 26,
   "id": "8ed45aea",
   "metadata": {},
   "outputs": [],
   "source": [
    "# Import library for modeling\n",
    "from surprise import AlgoBase, KNNBaseline, SVD\n"
   ]
  },
  {
   "cell_type": "markdown",
   "id": "14f18516",
   "metadata": {},
   "source": [
    "### Baseline Model"
   ]
  },
  {
   "cell_type": "code",
   "execution_count": 27,
   "id": "54328d71",
   "metadata": {},
   "outputs": [],
   "source": [
    "class MeanPred(AlgoBase):\n",
    "    '''Baseline prediction. Return global mean as prediction'''\n",
    "    def __init__(self):\n",
    "        AlgoBase.__init__(self)\n",
    "\n",
    "    def fit(self, trainset):\n",
    "        '''Fit the train data'''\n",
    "        AlgoBase.fit(self, trainset)\n",
    "\n",
    "    def estimate(self, u, i):\n",
    "        '''Perform the estimation/prediction.'''\n",
    "        estimation = self.trainset.global_mean\n",
    "        return estimation"
   ]
  },
  {
   "cell_type": "code",
   "execution_count": 28,
   "id": "00509d00",
   "metadata": {},
   "outputs": [
    {
     "data": {
      "text/plain": [
       "<__main__.MeanPred at 0x7f8548e6f880>"
      ]
     },
     "execution_count": 28,
     "metadata": {},
     "output_type": "execute_result"
    }
   ],
   "source": [
    "# Build baseline model\n",
    "base_model = MeanPred()\n",
    "base_model"
   ]
  },
  {
   "cell_type": "code",
   "execution_count": 29,
   "id": "23416461",
   "metadata": {},
   "outputs": [],
   "source": [
    "# Import the cross validation module\n",
    "from surprise.model_selection import cross_validate"
   ]
  },
  {
   "cell_type": "code",
   "execution_count": 30,
   "id": "450c39ac",
   "metadata": {},
   "outputs": [],
   "source": [
    "# do cross validation\n",
    "cv_base = cross_validate(algo = base_model,\n",
    "                             data = full_data,\n",
    "                             cv = 5,\n",
    "                             measures = ['rmse'])"
   ]
  },
  {
   "cell_type": "code",
   "execution_count": 33,
   "id": "bacad16f",
   "metadata": {},
   "outputs": [],
   "source": [
    "import pickle\n",
    "\n",
    "# save the iris classification model as a pickle file\n",
    "base_model_pkl_file = \"base_model.pkl\"  \n",
    "\n",
    "with open(base_model_pkl_file, 'wb') as file:  \n",
    "    pickle.dump(cv_base, file)"
   ]
  },
  {
   "cell_type": "code",
   "execution_count": 31,
   "id": "13ee70f8",
   "metadata": {},
   "outputs": [
    {
     "data": {
      "text/plain": [
       "1.5722800383405358"
      ]
     },
     "execution_count": 31,
     "metadata": {},
     "output_type": "execute_result"
    }
   ],
   "source": [
    "# Extract cross validation result\n",
    "cv_base_rmse = cv_base['test_rmse'].mean()\n",
    "cv_base_rmse"
   ]
  },
  {
   "cell_type": "markdown",
   "id": "9d968f90",
   "metadata": {},
   "source": [
    "### KNN Model"
   ]
  },
  {
   "cell_type": "code",
   "execution_count": 34,
   "id": "d7f2ebc8",
   "metadata": {},
   "outputs": [],
   "source": [
    "# import randomize search cross validation module\n",
    "from surprise.model_selection.search import RandomizedSearchCV"
   ]
  },
  {
   "cell_type": "code",
   "execution_count": 35,
   "id": "60ccd658",
   "metadata": {},
   "outputs": [],
   "source": [
    "#create parameter dictionary for KNN model\n",
    "params_knn = {'k':list(np.arange(start=5, stop=50, step=5)),\n",
    "          'sim_options':{'name':['cosine','pearson_baseline'],'user_based':[True,False]}}"
   ]
  },
  {
   "cell_type": "code",
   "execution_count": 36,
   "id": "1cc0dc24",
   "metadata": {},
   "outputs": [],
   "source": [
    "cv_knn = RandomizedSearchCV(algo_class=KNNBaseline, param_distributions = params_knn, cv=5)"
   ]
  },
  {
   "cell_type": "code",
   "execution_count": null,
   "id": "643f9357",
   "metadata": {},
   "outputs": [
    {
     "name": "stdout",
     "output_type": "stream",
     "text": [
      "Estimating biases using als...\n",
      "Computing the pearson_baseline similarity matrix...\n",
      "Done computing similarity matrix.\n",
      "Estimating biases using als...\n",
      "Computing the pearson_baseline similarity matrix...\n",
      "Done computing similarity matrix.\n",
      "Estimating biases using als...\n",
      "Computing the pearson_baseline similarity matrix...\n",
      "Done computing similarity matrix.\n",
      "Estimating biases using als...\n",
      "Computing the pearson_baseline similarity matrix...\n",
      "Done computing similarity matrix.\n",
      "Estimating biases using als...\n",
      "Computing the pearson_baseline similarity matrix...\n",
      "Done computing similarity matrix.\n",
      "Estimating biases using als...\n"
     ]
    }
   ],
   "source": [
    "cv_knn.fit(data=full_data)"
   ]
  },
  {
   "cell_type": "markdown",
   "id": "03832962",
   "metadata": {},
   "source": [
    "### Funk SVD Model"
   ]
  },
  {
   "cell_type": "code",
   "execution_count": null,
   "id": "f2eae4b8",
   "metadata": {},
   "outputs": [],
   "source": [
    "#create parameter dictionary for Funk SVD model\n",
    "params_svd = {'lr_all' : [1,0.1,0.01,0.001,0.0001], 'n_factors' : [50,100,150,200],\n",
    "              'reg_all' : [1,0.1,0.01,0.02]\n",
    "              }"
   ]
  },
  {
   "cell_type": "code",
   "execution_count": null,
   "id": "b0aea98e",
   "metadata": {},
   "outputs": [],
   "source": [
    "cv_svd = RandomizedSearchCV(algo_class=SVD, param_distributions = params_svd, cv=5)"
   ]
  },
  {
   "cell_type": "code",
   "execution_count": null,
   "id": "e2d5c628",
   "metadata": {},
   "outputs": [],
   "source": [
    "cv_svd.fit(data=full_data)"
   ]
  },
  {
   "cell_type": "markdown",
   "id": "aa934ea9",
   "metadata": {},
   "source": [
    "### Model Comparison"
   ]
  },
  {
   "cell_type": "code",
   "execution_count": null,
   "id": "f84eb948",
   "metadata": {},
   "outputs": [],
   "source": [
    "df_comp = pd.DataFrame({'Model': ['Baseline', 'KNN','Funk SVD'],\n",
    "                        'CV RMSE': [cv_base_rmse,cv_knn.best_score['rmse'],cv_svd.best_score['rmse'] ],\n",
    "                        'Model Configuration':['N/A',f'{cv_knn.best_params[\"rmse\"]}',f'{cv_svd.best_params[\"rmse\"]}']})\n",
    "\n",
    "df_comp"
   ]
  }
 ],
 "metadata": {
  "kernelspec": {
   "display_name": "Python 3 (ipykernel)",
   "language": "python",
   "name": "python3"
  },
  "language_info": {
   "codemirror_mode": {
    "name": "ipython",
    "version": 3
   },
   "file_extension": ".py",
   "mimetype": "text/x-python",
   "name": "python",
   "nbconvert_exporter": "python",
   "pygments_lexer": "ipython3",
   "version": "3.9.13"
  }
 },
 "nbformat": 4,
 "nbformat_minor": 5
}
